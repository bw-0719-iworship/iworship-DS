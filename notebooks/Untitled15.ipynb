{
 "cells": [
  {
   "cell_type": "code",
   "execution_count": 1,
   "metadata": {},
   "outputs": [],
   "source": [
    "import numpy as np \n",
    "import pandas as pd \n",
    "import matplotlib.pyplot as plt "
   ]
  },
  {
   "cell_type": "code",
   "execution_count": 2,
   "metadata": {},
   "outputs": [],
   "source": [
    "df = pd.read_csv('Downloads/All_Places_of_Worship.csv')"
   ]
  },
  {
   "cell_type": "code",
   "execution_count": 3,
   "metadata": {},
   "outputs": [
    {
     "data": {
      "text/plain": [
       "(49328, 39)"
      ]
     },
     "execution_count": 3,
     "metadata": {},
     "output_type": "execute_result"
    }
   ],
   "source": [
    "df.shape"
   ]
  },
  {
   "cell_type": "code",
   "execution_count": 4,
   "metadata": {},
   "outputs": [],
   "source": [
    "#dropping NaNs, note: 'attendance', 'members', also very high NaNs and '0' encoding as NaN\n",
    "\n",
    "df.isna().sum()\n",
    "df = df.drop(['TELEPHONE', 'ZIPP4', 'GEOLINKID', 'PHONELOC', 'EMERGEXT', 'MEMBERS', 'ATTENDANCE'], axis=1)"
   ]
  },
  {
   "cell_type": "code",
   "execution_count": 5,
   "metadata": {},
   "outputs": [],
   "source": [
    "df = df.dropna()"
   ]
  },
  {
   "cell_type": "code",
   "execution_count": 25,
   "metadata": {},
   "outputs": [
    {
     "data": {
      "text/plain": [
       "CHRISTIAN    42694\n",
       "JUDAIC        3256\n",
       "BUDDHIST      1711\n",
       "MUSLIM        1254\n",
       "HINDU          282\n",
       "OTHER          128\n",
       "Name: SUBTYPE, dtype: int64"
      ]
     },
     "execution_count": 25,
     "metadata": {},
     "output_type": "execute_result"
    }
   ],
   "source": [
    "df['SUBTYPE'].value_counts()"
   ]
  },
  {
   "cell_type": "code",
   "execution_count": null,
   "metadata": {},
   "outputs": [],
   "source": []
  },
  {
   "cell_type": "code",
   "execution_count": 6,
   "metadata": {
    "scrolled": false
   },
   "outputs": [
    {
     "data": {
      "text/html": [
       "<div>\n",
       "<style scoped>\n",
       "    .dataframe tbody tr th:only-of-type {\n",
       "        vertical-align: middle;\n",
       "    }\n",
       "\n",
       "    .dataframe tbody tr th {\n",
       "        vertical-align: top;\n",
       "    }\n",
       "\n",
       "    .dataframe thead th {\n",
       "        text-align: right;\n",
       "    }\n",
       "</style>\n",
       "<table border=\"1\" class=\"dataframe\">\n",
       "  <thead>\n",
       "    <tr style=\"text-align: right;\">\n",
       "      <th></th>\n",
       "      <th>OBJECTID</th>\n",
       "      <th>ID</th>\n",
       "      <th>NAME</th>\n",
       "      <th>ADDRESS</th>\n",
       "      <th>ADDRESS2</th>\n",
       "      <th>CITY</th>\n",
       "      <th>STATE</th>\n",
       "      <th>ZIP</th>\n",
       "      <th>COUNTY</th>\n",
       "      <th>FIPS</th>\n",
       "      <th>DIRECTIONS</th>\n",
       "      <th>EMERGTITLE</th>\n",
       "      <th>EMERGTEL</th>\n",
       "      <th>CONTDATE</th>\n",
       "      <th>CONTHOW</th>\n",
       "      <th>GEODATE</th>\n",
       "      <th>GEOHOW</th>\n",
       "      <th>HSIPTHEMES</th>\n",
       "      <th>NAICSCODE</th>\n",
       "      <th>NAICSDESCR</th>\n",
       "      <th>X</th>\n",
       "      <th>Y</th>\n",
       "      <th>ST_VENDOR</th>\n",
       "      <th>ST_VERSION</th>\n",
       "      <th>GEOPREC</th>\n",
       "      <th>QC_QA</th>\n",
       "      <th>STATE_ID</th>\n",
       "      <th>SUBTYPE</th>\n",
       "      <th>DENOM</th>\n",
       "      <th>LOC_TYPE</th>\n",
       "      <th>PROT</th>\n",
       "      <th>CATH</th>\n",
       "    </tr>\n",
       "  </thead>\n",
       "  <tbody>\n",
       "    <tr>\n",
       "      <th>0</th>\n",
       "      <td>1001</td>\n",
       "      <td>10438385.0</td>\n",
       "      <td>FREMONT PRESBYTERIAN CHURCH</td>\n",
       "      <td>5770 CARLSON DRIVE</td>\n",
       "      <td>NOT AVAILABLE</td>\n",
       "      <td>SACRAMENTO</td>\n",
       "      <td>CA</td>\n",
       "      <td>95819</td>\n",
       "      <td>SACRAMENTO</td>\n",
       "      <td>6067</td>\n",
       "      <td>NOT AVAILABLE</td>\n",
       "      <td>NOT AVAILABLE</td>\n",
       "      <td>NOT AVAILABLE</td>\n",
       "      <td>2007-10-10T00:00:00.000Z</td>\n",
       "      <td>ALT REF</td>\n",
       "      <td>2007-10-10T00:00:00.000Z</td>\n",
       "      <td>MANUAL</td>\n",
       "      <td>HIGH VALUE OR SYMBOLIC TARGETS; PUBLIC VENUES;...</td>\n",
       "      <td>813110</td>\n",
       "      <td>CHURCHES</td>\n",
       "      <td>-121.429885</td>\n",
       "      <td>38.567942</td>\n",
       "      <td>NAVTEQ</td>\n",
       "      <td>2006Q4</td>\n",
       "      <td>ONENTITY</td>\n",
       "      <td>TGS</td>\n",
       "      <td>NOT AVAILABLE</td>\n",
       "      <td>CHRISTIAN</td>\n",
       "      <td>PCUSA</td>\n",
       "      <td>NOT AVAILABLE</td>\n",
       "      <td>Y</td>\n",
       "      <td>N</td>\n",
       "    </tr>\n",
       "    <tr>\n",
       "      <th>1</th>\n",
       "      <td>1002</td>\n",
       "      <td>10438397.0</td>\n",
       "      <td>LAFAYETTE - ORINDA PRESBYTERIAN CHURCH</td>\n",
       "      <td>49 KNOX DRIVE</td>\n",
       "      <td>NOT AVAILABLE</td>\n",
       "      <td>LAFAYETTE</td>\n",
       "      <td>CA</td>\n",
       "      <td>94549</td>\n",
       "      <td>CONTRA COSTA</td>\n",
       "      <td>6013</td>\n",
       "      <td>NOT AVAILABLE</td>\n",
       "      <td>NOT AVAILABLE</td>\n",
       "      <td>NOT AVAILABLE</td>\n",
       "      <td>2007-10-10T00:00:00.000Z</td>\n",
       "      <td>ALT REF</td>\n",
       "      <td>2007-10-10T00:00:00.000Z</td>\n",
       "      <td>MANUAL</td>\n",
       "      <td>HIGH VALUE OR SYMBOLIC TARGETS; PUBLIC VENUES;...</td>\n",
       "      <td>813110</td>\n",
       "      <td>CHURCHES</td>\n",
       "      <td>-122.158534</td>\n",
       "      <td>37.887245</td>\n",
       "      <td>NAVTEQ</td>\n",
       "      <td>2006Q4</td>\n",
       "      <td>ONENTITY</td>\n",
       "      <td>TGS</td>\n",
       "      <td>NOT AVAILABLE</td>\n",
       "      <td>CHRISTIAN</td>\n",
       "      <td>PCUSA</td>\n",
       "      <td>NOT AVAILABLE</td>\n",
       "      <td>Y</td>\n",
       "      <td>N</td>\n",
       "    </tr>\n",
       "  </tbody>\n",
       "</table>\n",
       "</div>"
      ],
      "text/plain": [
       "   OBJECTID          ID                                    NAME  \\\n",
       "0      1001  10438385.0             FREMONT PRESBYTERIAN CHURCH   \n",
       "1      1002  10438397.0  LAFAYETTE - ORINDA PRESBYTERIAN CHURCH   \n",
       "\n",
       "              ADDRESS       ADDRESS2        CITY STATE    ZIP        COUNTY  \\\n",
       "0  5770 CARLSON DRIVE  NOT AVAILABLE  SACRAMENTO    CA  95819    SACRAMENTO   \n",
       "1       49 KNOX DRIVE  NOT AVAILABLE   LAFAYETTE    CA  94549  CONTRA COSTA   \n",
       "\n",
       "   FIPS     DIRECTIONS     EMERGTITLE       EMERGTEL  \\\n",
       "0  6067  NOT AVAILABLE  NOT AVAILABLE  NOT AVAILABLE   \n",
       "1  6013  NOT AVAILABLE  NOT AVAILABLE  NOT AVAILABLE   \n",
       "\n",
       "                   CONTDATE  CONTHOW                   GEODATE  GEOHOW  \\\n",
       "0  2007-10-10T00:00:00.000Z  ALT REF  2007-10-10T00:00:00.000Z  MANUAL   \n",
       "1  2007-10-10T00:00:00.000Z  ALT REF  2007-10-10T00:00:00.000Z  MANUAL   \n",
       "\n",
       "                                          HSIPTHEMES  NAICSCODE NAICSDESCR  \\\n",
       "0  HIGH VALUE OR SYMBOLIC TARGETS; PUBLIC VENUES;...     813110   CHURCHES   \n",
       "1  HIGH VALUE OR SYMBOLIC TARGETS; PUBLIC VENUES;...     813110   CHURCHES   \n",
       "\n",
       "            X          Y ST_VENDOR ST_VERSION   GEOPREC QC_QA       STATE_ID  \\\n",
       "0 -121.429885  38.567942    NAVTEQ     2006Q4  ONENTITY   TGS  NOT AVAILABLE   \n",
       "1 -122.158534  37.887245    NAVTEQ     2006Q4  ONENTITY   TGS  NOT AVAILABLE   \n",
       "\n",
       "     SUBTYPE  DENOM       LOC_TYPE PROT CATH  \n",
       "0  CHRISTIAN  PCUSA  NOT AVAILABLE    Y    N  \n",
       "1  CHRISTIAN  PCUSA  NOT AVAILABLE    Y    N  "
      ]
     },
     "execution_count": 6,
     "metadata": {},
     "output_type": "execute_result"
    }
   ],
   "source": [
    "pd.set_option('display.max_columns', None)\n",
    "df.head(2)"
   ]
  },
  {
   "cell_type": "code",
   "execution_count": 7,
   "metadata": {
    "scrolled": true
   },
   "outputs": [
    {
     "data": {
      "text/plain": [
       "FIRST BAPTIST CHURCH                              1750\n",
       "CALVARY BAPTIST CHURCH                             478\n",
       "BETHEL AFRICAN METHODIST EPISCOPAL CHURCH          317\n",
       "FAITH BAPTIST CHURCH                               309\n",
       "BIBLE BAPTIST CHURCH                               295\n",
       "GRACE BAPTIST CHURCH                               277\n",
       "VICTORY BAPTIST CHURCH                             200\n",
       "SAINT PAUL AFRICAN METHODIST EPISCOPAL CHURCH      180\n",
       "CENTRAL BAPTIST CHURCH                             166\n",
       "BETHEL BAPTIST CHURCH                              156\n",
       "LIGHTHOUSE BAPTIST CHURCH                          141\n",
       "SAINT JAMES AFRICAN METHODIST EPISCOPAL CHURCH     137\n",
       "TRINITY BAPTIST CHURCH                             133\n",
       "SECOND BAPTIST CHURCH                              125\n",
       "LIBERTY BAPTIST CHURCH                             120\n",
       "EMMANUEL BAPTIST CHURCH                            120\n",
       "FIRST PRESBYTERIAN CHURCH                          114\n",
       "MOUNT ZION BAPTIST CHURCH                          103\n",
       "SAINT JOHN AFRICAN METHODIST EPISCOPAL CHURCH      102\n",
       "MOUNT ZION AFRICAN METHODIST EPISCOPAL CHURCH      101\n",
       "Name: NAME, dtype: int64"
      ]
     },
     "execution_count": 7,
     "metadata": {},
     "output_type": "execute_result"
    }
   ],
   "source": [
    "df['NAME'].value_counts().head(20)"
   ]
  },
  {
   "cell_type": "code",
   "execution_count": 8,
   "metadata": {
    "scrolled": true
   },
   "outputs": [
    {
     "data": {
      "text/html": [
       "<div>\n",
       "<style scoped>\n",
       "    .dataframe tbody tr th:only-of-type {\n",
       "        vertical-align: middle;\n",
       "    }\n",
       "\n",
       "    .dataframe tbody tr th {\n",
       "        vertical-align: top;\n",
       "    }\n",
       "\n",
       "    .dataframe thead th {\n",
       "        text-align: right;\n",
       "    }\n",
       "</style>\n",
       "<table border=\"1\" class=\"dataframe\">\n",
       "  <thead>\n",
       "    <tr style=\"text-align: right;\">\n",
       "      <th></th>\n",
       "      <th>OBJECTID</th>\n",
       "      <th>ID</th>\n",
       "      <th>ZIP</th>\n",
       "      <th>FIPS</th>\n",
       "      <th>NAICSCODE</th>\n",
       "      <th>X</th>\n",
       "      <th>Y</th>\n",
       "    </tr>\n",
       "  </thead>\n",
       "  <tbody>\n",
       "    <tr>\n",
       "      <th>count</th>\n",
       "      <td>49325.000000</td>\n",
       "      <td>4.932500e+04</td>\n",
       "      <td>49325.000000</td>\n",
       "      <td>49325.000000</td>\n",
       "      <td>49325.0</td>\n",
       "      <td>49325.000000</td>\n",
       "      <td>49325.000000</td>\n",
       "    </tr>\n",
       "    <tr>\n",
       "      <th>mean</th>\n",
       "      <td>24663.000000</td>\n",
       "      <td>1.051675e+07</td>\n",
       "      <td>47101.365616</td>\n",
       "      <td>28747.855631</td>\n",
       "      <td>813110.0</td>\n",
       "      <td>-89.597361</td>\n",
       "      <td>37.446067</td>\n",
       "    </tr>\n",
       "    <tr>\n",
       "      <th>std</th>\n",
       "      <td>14239.045351</td>\n",
       "      <td>1.136604e+05</td>\n",
       "      <td>27922.408690</td>\n",
       "      <td>15979.587002</td>\n",
       "      <td>0.0</td>\n",
       "      <td>15.000868</td>\n",
       "      <td>4.987367</td>\n",
       "    </tr>\n",
       "    <tr>\n",
       "      <th>min</th>\n",
       "      <td>1.000000</td>\n",
       "      <td>1.042610e+07</td>\n",
       "      <td>601.000000</td>\n",
       "      <td>1001.000000</td>\n",
       "      <td>813110.0</td>\n",
       "      <td>-170.731937</td>\n",
       "      <td>-14.337511</td>\n",
       "    </tr>\n",
       "    <tr>\n",
       "      <th>25%</th>\n",
       "      <td>12332.000000</td>\n",
       "      <td>1.043985e+07</td>\n",
       "      <td>27107.000000</td>\n",
       "      <td>13215.000000</td>\n",
       "      <td>813110.0</td>\n",
       "      <td>-95.600180</td>\n",
       "      <td>33.826853</td>\n",
       "    </tr>\n",
       "    <tr>\n",
       "      <th>50%</th>\n",
       "      <td>24663.000000</td>\n",
       "      <td>1.045664e+07</td>\n",
       "      <td>42066.000000</td>\n",
       "      <td>29095.000000</td>\n",
       "      <td>813110.0</td>\n",
       "      <td>-85.645196</td>\n",
       "      <td>38.177910</td>\n",
       "    </tr>\n",
       "    <tr>\n",
       "      <th>75%</th>\n",
       "      <td>36994.000000</td>\n",
       "      <td>1.058250e+07</td>\n",
       "      <td>72450.000000</td>\n",
       "      <td>42069.000000</td>\n",
       "      <td>813110.0</td>\n",
       "      <td>-79.849351</td>\n",
       "      <td>40.929102</td>\n",
       "    </tr>\n",
       "    <tr>\n",
       "      <th>max</th>\n",
       "      <td>49325.000000</td>\n",
       "      <td>1.154927e+07</td>\n",
       "      <td>99929.000000</td>\n",
       "      <td>78030.000000</td>\n",
       "      <td>813110.0</td>\n",
       "      <td>144.812211</td>\n",
       "      <td>71.303071</td>\n",
       "    </tr>\n",
       "  </tbody>\n",
       "</table>\n",
       "</div>"
      ],
      "text/plain": [
       "           OBJECTID            ID           ZIP          FIPS  NAICSCODE  \\\n",
       "count  49325.000000  4.932500e+04  49325.000000  49325.000000    49325.0   \n",
       "mean   24663.000000  1.051675e+07  47101.365616  28747.855631   813110.0   \n",
       "std    14239.045351  1.136604e+05  27922.408690  15979.587002        0.0   \n",
       "min        1.000000  1.042610e+07    601.000000   1001.000000   813110.0   \n",
       "25%    12332.000000  1.043985e+07  27107.000000  13215.000000   813110.0   \n",
       "50%    24663.000000  1.045664e+07  42066.000000  29095.000000   813110.0   \n",
       "75%    36994.000000  1.058250e+07  72450.000000  42069.000000   813110.0   \n",
       "max    49325.000000  1.154927e+07  99929.000000  78030.000000   813110.0   \n",
       "\n",
       "                  X             Y  \n",
       "count  49325.000000  49325.000000  \n",
       "mean     -89.597361     37.446067  \n",
       "std       15.000868      4.987367  \n",
       "min     -170.731937    -14.337511  \n",
       "25%      -95.600180     33.826853  \n",
       "50%      -85.645196     38.177910  \n",
       "75%      -79.849351     40.929102  \n",
       "max      144.812211     71.303071  "
      ]
     },
     "execution_count": 8,
     "metadata": {},
     "output_type": "execute_result"
    }
   ],
   "source": [
    "df.describe()"
   ]
  },
  {
   "cell_type": "code",
   "execution_count": 9,
   "metadata": {
    "scrolled": false
   },
   "outputs": [
    {
     "data": {
      "text/html": [
       "<div>\n",
       "<style scoped>\n",
       "    .dataframe tbody tr th:only-of-type {\n",
       "        vertical-align: middle;\n",
       "    }\n",
       "\n",
       "    .dataframe tbody tr th {\n",
       "        vertical-align: top;\n",
       "    }\n",
       "\n",
       "    .dataframe thead th {\n",
       "        text-align: right;\n",
       "    }\n",
       "</style>\n",
       "<table border=\"1\" class=\"dataframe\">\n",
       "  <thead>\n",
       "    <tr style=\"text-align: right;\">\n",
       "      <th></th>\n",
       "      <th>NAME</th>\n",
       "      <th>ADDRESS</th>\n",
       "      <th>ADDRESS2</th>\n",
       "      <th>CITY</th>\n",
       "      <th>STATE</th>\n",
       "      <th>COUNTY</th>\n",
       "      <th>DIRECTIONS</th>\n",
       "      <th>EMERGTITLE</th>\n",
       "      <th>EMERGTEL</th>\n",
       "      <th>CONTDATE</th>\n",
       "      <th>CONTHOW</th>\n",
       "      <th>GEODATE</th>\n",
       "      <th>GEOHOW</th>\n",
       "      <th>HSIPTHEMES</th>\n",
       "      <th>NAICSDESCR</th>\n",
       "      <th>ST_VENDOR</th>\n",
       "      <th>ST_VERSION</th>\n",
       "      <th>GEOPREC</th>\n",
       "      <th>QC_QA</th>\n",
       "      <th>STATE_ID</th>\n",
       "      <th>SUBTYPE</th>\n",
       "      <th>DENOM</th>\n",
       "      <th>LOC_TYPE</th>\n",
       "      <th>PROT</th>\n",
       "      <th>CATH</th>\n",
       "    </tr>\n",
       "  </thead>\n",
       "  <tbody>\n",
       "    <tr>\n",
       "      <th>count</th>\n",
       "      <td>49325</td>\n",
       "      <td>49325</td>\n",
       "      <td>49325</td>\n",
       "      <td>49325</td>\n",
       "      <td>49325</td>\n",
       "      <td>49325</td>\n",
       "      <td>49325</td>\n",
       "      <td>49325</td>\n",
       "      <td>49325</td>\n",
       "      <td>49325</td>\n",
       "      <td>49325</td>\n",
       "      <td>49325</td>\n",
       "      <td>49325</td>\n",
       "      <td>49325</td>\n",
       "      <td>49325</td>\n",
       "      <td>49325</td>\n",
       "      <td>49325</td>\n",
       "      <td>49325</td>\n",
       "      <td>49325</td>\n",
       "      <td>49325</td>\n",
       "      <td>49325</td>\n",
       "      <td>49325</td>\n",
       "      <td>49325</td>\n",
       "      <td>49325</td>\n",
       "      <td>49325</td>\n",
       "    </tr>\n",
       "    <tr>\n",
       "      <th>unique</th>\n",
       "      <td>27912</td>\n",
       "      <td>47372</td>\n",
       "      <td>1489</td>\n",
       "      <td>7444</td>\n",
       "      <td>55</td>\n",
       "      <td>1647</td>\n",
       "      <td>2762</td>\n",
       "      <td>4</td>\n",
       "      <td>5</td>\n",
       "      <td>289</td>\n",
       "      <td>2</td>\n",
       "      <td>304</td>\n",
       "      <td>2</td>\n",
       "      <td>1</td>\n",
       "      <td>9</td>\n",
       "      <td>4</td>\n",
       "      <td>4</td>\n",
       "      <td>2</td>\n",
       "      <td>1</td>\n",
       "      <td>180</td>\n",
       "      <td>6</td>\n",
       "      <td>702</td>\n",
       "      <td>9</td>\n",
       "      <td>2</td>\n",
       "      <td>2</td>\n",
       "    </tr>\n",
       "    <tr>\n",
       "      <th>top</th>\n",
       "      <td>FIRST BAPTIST CHURCH</td>\n",
       "      <td>MAIN STREET</td>\n",
       "      <td>NOT AVAILABLE</td>\n",
       "      <td>CHICAGO</td>\n",
       "      <td>CA</td>\n",
       "      <td>LOS ANGELES</td>\n",
       "      <td>NOT AVAILABLE</td>\n",
       "      <td>NOT AVAILABLE</td>\n",
       "      <td>NOT AVAILABLE</td>\n",
       "      <td>2009-04-22T00:00:00.000Z</td>\n",
       "      <td>ALT REF</td>\n",
       "      <td>2008-09-05T00:00:00.000Z</td>\n",
       "      <td>MANUAL</td>\n",
       "      <td>HIGH VALUE OR SYMBOLIC TARGETS; PUBLIC VENUES;...</td>\n",
       "      <td>CHURCHES</td>\n",
       "      <td>NAVTEQ</td>\n",
       "      <td>2008Q1</td>\n",
       "      <td>ONENTITY</td>\n",
       "      <td>TGS</td>\n",
       "      <td>NOT AVAILABLE</td>\n",
       "      <td>CHRISTIAN</td>\n",
       "      <td>NOT AVAILABLE</td>\n",
       "      <td>NOT AVAILABLE</td>\n",
       "      <td>Y</td>\n",
       "      <td>N</td>\n",
       "    </tr>\n",
       "    <tr>\n",
       "      <th>freq</th>\n",
       "      <td>1750</td>\n",
       "      <td>16</td>\n",
       "      <td>47549</td>\n",
       "      <td>571</td>\n",
       "      <td>3513</td>\n",
       "      <td>1019</td>\n",
       "      <td>46534</td>\n",
       "      <td>49321</td>\n",
       "      <td>49321</td>\n",
       "      <td>535</td>\n",
       "      <td>46555</td>\n",
       "      <td>602</td>\n",
       "      <td>48723</td>\n",
       "      <td>49325</td>\n",
       "      <td>42654</td>\n",
       "      <td>49232</td>\n",
       "      <td>39446</td>\n",
       "      <td>41976</td>\n",
       "      <td>49325</td>\n",
       "      <td>49146</td>\n",
       "      <td>42694</td>\n",
       "      <td>10799</td>\n",
       "      <td>47951</td>\n",
       "      <td>35821</td>\n",
       "      <td>42446</td>\n",
       "    </tr>\n",
       "  </tbody>\n",
       "</table>\n",
       "</div>"
      ],
      "text/plain": [
       "                        NAME      ADDRESS       ADDRESS2     CITY  STATE  \\\n",
       "count                  49325        49325          49325    49325  49325   \n",
       "unique                 27912        47372           1489     7444     55   \n",
       "top     FIRST BAPTIST CHURCH  MAIN STREET  NOT AVAILABLE  CHICAGO     CA   \n",
       "freq                    1750           16          47549      571   3513   \n",
       "\n",
       "             COUNTY     DIRECTIONS     EMERGTITLE       EMERGTEL  \\\n",
       "count         49325          49325          49325          49325   \n",
       "unique         1647           2762              4              5   \n",
       "top     LOS ANGELES  NOT AVAILABLE  NOT AVAILABLE  NOT AVAILABLE   \n",
       "freq           1019          46534          49321          49321   \n",
       "\n",
       "                        CONTDATE  CONTHOW                   GEODATE  GEOHOW  \\\n",
       "count                      49325    49325                     49325   49325   \n",
       "unique                       289        2                       304       2   \n",
       "top     2009-04-22T00:00:00.000Z  ALT REF  2008-09-05T00:00:00.000Z  MANUAL   \n",
       "freq                         535    46555                       602   48723   \n",
       "\n",
       "                                               HSIPTHEMES NAICSDESCR  \\\n",
       "count                                               49325      49325   \n",
       "unique                                                  1          9   \n",
       "top     HIGH VALUE OR SYMBOLIC TARGETS; PUBLIC VENUES;...   CHURCHES   \n",
       "freq                                                49325      42654   \n",
       "\n",
       "       ST_VENDOR ST_VERSION   GEOPREC  QC_QA       STATE_ID    SUBTYPE  \\\n",
       "count      49325      49325     49325  49325          49325      49325   \n",
       "unique         4          4         2      1            180          6   \n",
       "top       NAVTEQ     2008Q1  ONENTITY    TGS  NOT AVAILABLE  CHRISTIAN   \n",
       "freq       49232      39446     41976  49325          49146      42694   \n",
       "\n",
       "                DENOM       LOC_TYPE   PROT   CATH  \n",
       "count           49325          49325  49325  49325  \n",
       "unique            702              9      2      2  \n",
       "top     NOT AVAILABLE  NOT AVAILABLE      Y      N  \n",
       "freq            10799          47951  35821  42446  "
      ]
     },
     "execution_count": 9,
     "metadata": {},
     "output_type": "execute_result"
    }
   ],
   "source": [
    "df.describe(exclude=[np.number])"
   ]
  },
  {
   "cell_type": "code",
   "execution_count": 10,
   "metadata": {},
   "outputs": [],
   "source": [
    "features = ['SUBTYPE', 'PROT', 'CATH', 'HSIPTHEMES', 'NAICSDESCR', 'DENOM', 'LOC_TYPE'] \n",
    "target = ['NAME']"
   ]
  },
  {
   "cell_type": "code",
   "execution_count": 11,
   "metadata": {},
   "outputs": [],
   "source": [
    "X = df[features]\n",
    "y = df[target]"
   ]
  },
  {
   "cell_type": "code",
   "execution_count": 12,
   "metadata": {},
   "outputs": [],
   "source": [
    "from sklearn.model_selection import train_test_split\n",
    "\n",
    "X_train, X_test, y_train, y_test = train_test_split(X, y, test_size=0.5, random_state=42)"
   ]
  },
  {
   "cell_type": "code",
   "execution_count": 13,
   "metadata": {},
   "outputs": [
    {
     "data": {
      "text/plain": [
       "((24662, 7), (24663, 7), (24662, 1), (24663, 1))"
      ]
     },
     "execution_count": 13,
     "metadata": {},
     "output_type": "execute_result"
    }
   ],
   "source": [
    "X_train.shape, X_test.shape, y_train.shape, y_test.shape"
   ]
  },
  {
   "cell_type": "code",
   "execution_count": 14,
   "metadata": {},
   "outputs": [],
   "source": [
    "from category_encoders.ordinal import OrdinalEncoder"
   ]
  },
  {
   "cell_type": "code",
   "execution_count": 15,
   "metadata": {},
   "outputs": [],
   "source": [
    "encoder = OrdinalEncoder()\n",
    "X_train = encoder.fit_transform(X)\n",
    "X_test = encoder.fit_transform(X)"
   ]
  },
  {
   "cell_type": "code",
   "execution_count": 16,
   "metadata": {},
   "outputs": [],
   "source": [
    "encoder = OrdinalEncoder()\n",
    "y_train = encoder.fit_transform(y)\n",
    "y_test = encoder.fit_transform(y)"
   ]
  },
  {
   "cell_type": "code",
   "execution_count": 17,
   "metadata": {},
   "outputs": [],
   "source": [
    "from sklearn.tree import DecisionTreeClassifier\n",
    "\n",
    "from sklearn.model_selection import cross_val_score"
   ]
  },
  {
   "cell_type": "code",
   "execution_count": 18,
   "metadata": {},
   "outputs": [
    {
     "data": {
      "text/plain": [
       "DecisionTreeClassifier(class_weight=None, criterion='gini', max_depth=None,\n",
       "            max_features=None, max_leaf_nodes=None,\n",
       "            min_impurity_decrease=0.0, min_impurity_split=None,\n",
       "            min_samples_leaf=1, min_samples_split=2,\n",
       "            min_weight_fraction_leaf=0.0, presort=False, random_state=42,\n",
       "            splitter='best')"
      ]
     },
     "execution_count": 18,
     "metadata": {},
     "output_type": "execute_result"
    }
   ],
   "source": [
    "model = DecisionTreeClassifier(random_state=42)\n",
    "\n",
    "model.fit(X_train, y_train)"
   ]
  },
  {
   "cell_type": "code",
   "execution_count": 19,
   "metadata": {},
   "outputs": [
    {
     "data": {
      "text/plain": [
       "0.07191079574252407"
      ]
     },
     "execution_count": 19,
     "metadata": {},
     "output_type": "execute_result"
    }
   ],
   "source": [
    "model.score(X_train, y_test)"
   ]
  },
  {
   "cell_type": "code",
   "execution_count": 20,
   "metadata": {},
   "outputs": [],
   "source": [
    "df['PRED'] = model.predict(X_train)"
   ]
  },
  {
   "cell_type": "code",
   "execution_count": 66,
   "metadata": {},
   "outputs": [
    {
     "data": {
      "text/plain": [
       "<bound method Series.unique of 0           82\n",
       "1           82\n",
       "2           82\n",
       "3         4654\n",
       "4          533\n",
       "5         4654\n",
       "6          101\n",
       "7          101\n",
       "8          533\n",
       "9          533\n",
       "10         533\n",
       "11         533\n",
       "12         533\n",
       "13         533\n",
       "14         533\n",
       "15         533\n",
       "16         533\n",
       "17         533\n",
       "18         533\n",
       "19        1209\n",
       "20         414\n",
       "21         533\n",
       "22         533\n",
       "23         533\n",
       "24         533\n",
       "25         533\n",
       "26         533\n",
       "27         533\n",
       "28         533\n",
       "29         533\n",
       "         ...  \n",
       "49298      101\n",
       "49299      101\n",
       "49300      101\n",
       "49301      101\n",
       "49302      101\n",
       "49303       82\n",
       "49304      134\n",
       "49305       82\n",
       "49306       82\n",
       "49307      134\n",
       "49308      134\n",
       "49309       82\n",
       "49310      134\n",
       "49311      207\n",
       "49312       82\n",
       "49313      134\n",
       "49314      101\n",
       "49315      134\n",
       "49316       82\n",
       "49317      134\n",
       "49318       82\n",
       "49319      554\n",
       "49320      134\n",
       "49321      134\n",
       "49322      134\n",
       "49323    27911\n",
       "49324      134\n",
       "49325     5944\n",
       "49326      134\n",
       "49327      414\n",
       "Name: PRED, Length: 49325, dtype: int64>"
      ]
     },
     "execution_count": 66,
     "metadata": {},
     "output_type": "execute_result"
    }
   ],
   "source": []
  },
  {
   "cell_type": "code",
   "execution_count": 22,
   "metadata": {},
   "outputs": [],
   "source": [
    "importances = pd.DataFrame(model.feature_importances_)"
   ]
  },
  {
   "cell_type": "code",
   "execution_count": 23,
   "metadata": {},
   "outputs": [
    {
     "data": {
      "text/plain": [
       "SUBTYPE       0.011900\n",
       "PROT          0.001048\n",
       "CATH          0.004595\n",
       "HSIPTHEMES    0.000000\n",
       "NAICSDESCR    0.048803\n",
       "DENOM         0.917117\n",
       "LOC_TYPE      0.016537\n",
       "dtype: float64"
      ]
     },
     "execution_count": 23,
     "metadata": {},
     "output_type": "execute_result"
    }
   ],
   "source": [
    "pd.Series(model.feature_importances_, X_train.columns)"
   ]
  },
  {
   "cell_type": "code",
   "execution_count": 51,
   "metadata": {},
   "outputs": [],
   "source": [
    "target_filter = df[y.isin(df['PRED'])]"
   ]
  },
  {
   "cell_type": "code",
   "execution_count": 52,
   "metadata": {},
   "outputs": [
    {
     "data": {
      "text/plain": [
       "(49325, 33)"
      ]
     },
     "execution_count": 52,
     "metadata": {},
     "output_type": "execute_result"
    }
   ],
   "source": [
    "target_filter.shape"
   ]
  },
  {
   "cell_type": "code",
   "execution_count": null,
   "metadata": {},
   "outputs": [],
   "source": []
  }
 ],
 "metadata": {
  "kernelspec": {
   "display_name": "Python 3",
   "language": "python",
   "name": "python3"
  },
  "language_info": {
   "codemirror_mode": {
    "name": "ipython",
    "version": 3
   },
   "file_extension": ".py",
   "mimetype": "text/x-python",
   "name": "python",
   "nbconvert_exporter": "python",
   "pygments_lexer": "ipython3",
   "version": "3.7.3"
  }
 },
 "nbformat": 4,
 "nbformat_minor": 2
}
